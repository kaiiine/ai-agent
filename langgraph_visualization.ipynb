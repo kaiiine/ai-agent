{
 "cells": [
  {
   "cell_type": "markdown",
   "id": "1532f2c6",
   "metadata": {},
   "source": [
    "# Visualisation LangGraph\n",
    "\n",
    "Ce notebook permet de visualiser les graphiques LangGraph directement dans Jupyter."
   ]
  },
  {
   "cell_type": "code",
   "execution_count": 8,
   "id": "dfb4391b",
   "metadata": {},
   "outputs": [],
   "source": [
    "# Import des librairies nécessaires\n",
    "import sys\n",
    "import os\n",
    "\n",
    "# Ajouter le dossier src au path pour importer nos modules\n",
    "sys.path.append('./src')\n",
    "\n",
    "from IPython.display import Image, display\n",
    "from langgraph.prebuilt import create_react_agent\n",
    "from langchain_ollama import ChatOllama\n",
    "from langchain.tools import tool\n",
    "import requests"
   ]
  },
  {
   "cell_type": "code",
   "execution_count": 7,
   "id": "7c857f5a",
   "metadata": {},
   "outputs": [],
   "source": [
    "# Configuration du modèle et des tools\n",
    "llm = ChatOllama(model=\"mistral:latest\", temperature=0)\n",
    "\n",
    "@tool\n",
    "def get_weather(city: str) -> dict:\n",
    "    \"\"\"Retourne la météo actuelle pour une ville.\"\"\"\n",
    "    # Coordonnées exemple pour Paris\n",
    "    lat, lon = 48.8566, 2.3522\n",
    "    \n",
    "    r = requests.get(\n",
    "        \"https://api.open-meteo.com/v1/forecast\",\n",
    "        params={\n",
    "            \"latitude\": lat,\n",
    "            \"longitude\": lon,\n",
    "            \"current\": \"temperature_2m,wind_speed_10m\",\n",
    "        },\n",
    "        timeout=6, \n",
    "    )\n",
    "    r.raise_for_status()\n",
    "    cur = r.json().get(\"current\", {})\n",
    "    return {\"city\": city, \"latitude\": lat, \"longitude\": lon, **cur}\n",
    "\n",
    "# Création de l'agent\n",
    "agent = create_react_agent(\n",
    "    model=llm,\n",
    "    tools=[get_weather],\n",
    "    prompt=\"You are a helpful weather assistant.\"\n",
    ")"
   ]
  },
  {
   "cell_type": "code",
   "execution_count": 6,
   "id": "6e93a87c",
   "metadata": {},
   "outputs": [
    {
     "data": {
      "image/png": "[encoded data removed]",
      "text/plain": [
       "<IPython.core.display.Image object>"
      ]
     },
     "metadata": {},
     "output_type": "display_data"
    }
   ],
   "source": [
    "# Visualisation du graphique\n",
    "try:\n",
    "    # Générer l'image PNG du graphique\n",
    "    img = agent.get_graph().draw_mermaid_png()\n",
    "    \n",
    "    # Afficher l'image dans le notebook\n",
    "    display(Image(img))\n",
    "    \n",
    "except Exception as e:\n",
    "    print(f\"Erreur lors de la génération de l'image: {e}\")\n",
    "    # Afficher le code Mermaid en texte comme alternative\n",
    "    print(\"\\nCode Mermaid du graphique:\")\n",
    "    print(agent.get_graph().draw_mermaid())"
   ]
  },
  {
   "cell_type": "code",
   "execution_count": null,
   "id": "13b7dfcb",
   "metadata": {},
   "outputs": [],
   "source": [
    "# Test de l'agent\n",
    "response = agent.invoke({\n",
    "    \"messages\": [{\"role\": \"user\", \"content\": \"What's the weather like in Paris?\"}]\n",
    "})\n",
    "\n",
    "print(\"Réponse de l'agent:\")\n",
    "print(response[\"messages\"][-1].content)"
   ]
  }
 ],
 "metadata": {
  "kernelspec": {
   "display_name": "venv",
   "language": "python",
   "name": "python3"
  },
  "language_info": {
   "codemirror_mode": {
    "name": "ipython",
    "version": 3
   },
   "file_extension": ".py",
   "mimetype": "text/x-python",
   "name": "python",
   "nbconvert_exporter": "python",
   "pygments_lexer": "ipython3",
   "version": "3.13.7"
  }
 },
 "nbformat": 4,
 "nbformat_minor": 5
}
